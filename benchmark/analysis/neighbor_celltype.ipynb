{
 "cells": [
  {
   "cell_type": "code",
   "execution_count": 38,
   "metadata": {},
   "outputs": [],
   "source": [
    "import scanpy as sc\n",
    "import pandas as pd\n",
    "import numpy as np\n",
    "import torch\n",
    "import torch_geometric as pyg\n",
    "from torch_geometric.nn import knn_graph, radius_graph\n",
    "from torch_geometric.utils import to_undirected\n",
    "\n",
    "import seaborn as sns"
   ]
  },
  {
   "cell_type": "code",
   "execution_count": 2,
   "metadata": {},
   "outputs": [],
   "source": [
    "visium_human_DLPFC =  [\"../../data/visium/DLPFC/region_1/151674_labeled.h5ad\",\"../../data/visium/DLPFC/region_1/151675_labeled.h5ad\"]\n",
    "merfish_mouse_hypothalamic =  [\"../../data/merfish/hypothalamic/merfish_layer1_labeled.h5ad\",\"../../data/merfish/hypothalamic/merfish_layer2_labeled.h5ad\"]\n",
    "stereo_mouse_embryo =  [\"../../data/stereo_seq/counts/E15.5/count_E15.5_E1S1_filter_labeled.h5ad\",\"../../data/stereo_seq/counts/E15.5/count_E15.5_E1S2_filter_labeled.h5ad\"]"
   ]
  },
  {
   "cell_type": "code",
   "execution_count": 33,
   "metadata": {},
   "outputs": [
    {
     "name": "stdout",
     "output_type": "stream",
     "text": [
      "../../data/visium/DLPFC/region_1/151674_labeled.h5ad\n"
     ]
    },
    {
     "name": "stderr",
     "output_type": "stream",
     "text": [
      "/tmp/ipykernel_601993/2544133365.py:26: SettingWithCopyWarning: \n",
      "A value is trying to be set on a copy of a slice from a DataFrame.\n",
      "Try using .loc[row_indexer,col_indexer] = value instead\n",
      "\n",
      "See the caveats in the documentation: https://pandas.pydata.org/pandas-docs/stable/user_guide/indexing.html#returning-a-view-versus-a-copy\n",
      "  source['meta2'] = target['meta'].tolist().copy()\n",
      "/tmp/ipykernel_601993/2544133365.py:26: SettingWithCopyWarning: \n",
      "A value is trying to be set on a copy of a slice from a DataFrame.\n",
      "Try using .loc[row_indexer,col_indexer] = value instead\n",
      "\n",
      "See the caveats in the documentation: https://pandas.pydata.org/pandas-docs/stable/user_guide/indexing.html#returning-a-view-versus-a-copy\n",
      "  source['meta2'] = target['meta'].tolist().copy()\n"
     ]
    },
    {
     "name": "stdout",
     "output_type": "stream",
     "text": [
      "7883 edges\n",
      "0.8934415831536218\n",
      "../../data/visium/DLPFC/region_1/151675_labeled.h5ad\n",
      "7698 edges\n",
      "0.8656793972460379\n",
      "-----------------\n",
      "../../data/merfish/hypothalamic/merfish_layer1_labeled.h5ad\n"
     ]
    },
    {
     "name": "stderr",
     "output_type": "stream",
     "text": [
      "/tmp/ipykernel_601993/2544133365.py:26: SettingWithCopyWarning: \n",
      "A value is trying to be set on a copy of a slice from a DataFrame.\n",
      "Try using .loc[row_indexer,col_indexer] = value instead\n",
      "\n",
      "See the caveats in the documentation: https://pandas.pydata.org/pandas-docs/stable/user_guide/indexing.html#returning-a-view-versus-a-copy\n",
      "  source['meta2'] = target['meta'].tolist().copy()\n",
      "/tmp/ipykernel_601993/2544133365.py:26: SettingWithCopyWarning: \n",
      "A value is trying to be set on a copy of a slice from a DataFrame.\n",
      "Try using .loc[row_indexer,col_indexer] = value instead\n",
      "\n",
      "See the caveats in the documentation: https://pandas.pydata.org/pandas-docs/stable/user_guide/indexing.html#returning-a-view-versus-a-copy\n",
      "  source['meta2'] = target['meta'].tolist().copy()\n"
     ]
    },
    {
     "name": "stdout",
     "output_type": "stream",
     "text": [
      "15308 edges\n",
      "0.6092239351972825\n",
      "../../data/merfish/hypothalamic/merfish_layer2_labeled.h5ad\n",
      "15453 edges\n",
      "0.63113958454669\n",
      "-----------------\n",
      "../../data/stereo_seq/counts/E15.5/count_E15.5_E1S1_filter_labeled.h5ad\n"
     ]
    },
    {
     "name": "stderr",
     "output_type": "stream",
     "text": [
      "/tmp/ipykernel_601993/2544133365.py:26: SettingWithCopyWarning: \n",
      "A value is trying to be set on a copy of a slice from a DataFrame.\n",
      "Try using .loc[row_indexer,col_indexer] = value instead\n",
      "\n",
      "See the caveats in the documentation: https://pandas.pydata.org/pandas-docs/stable/user_guide/indexing.html#returning-a-view-versus-a-copy\n",
      "  source['meta2'] = target['meta'].tolist().copy()\n"
     ]
    },
    {
     "name": "stdout",
     "output_type": "stream",
     "text": [
      "230353 edges\n",
      "0.9426879615199281\n",
      "../../data/stereo_seq/counts/E15.5/count_E15.5_E1S2_filter_labeled.h5ad\n",
      "222059 edges\n",
      "0.9355306472604128\n",
      "-----------------\n"
     ]
    },
    {
     "name": "stderr",
     "output_type": "stream",
     "text": [
      "/tmp/ipykernel_601993/2544133365.py:26: SettingWithCopyWarning: \n",
      "A value is trying to be set on a copy of a slice from a DataFrame.\n",
      "Try using .loc[row_indexer,col_indexer] = value instead\n",
      "\n",
      "See the caveats in the documentation: https://pandas.pydata.org/pandas-docs/stable/user_guide/indexing.html#returning-a-view-versus-a-copy\n",
      "  source['meta2'] = target['meta'].tolist().copy()\n"
     ]
    }
   ],
   "source": [
    "result_dict = {}\n",
    "for adatas in [visium_human_DLPFC, merfish_mouse_hypothalamic, stereo_mouse_embryo]:\n",
    "    tech_dict = {}\n",
    "    if 'visium' and 'DLPFC' in adatas[0]:\n",
    "        biology_meta = 'cell_type'\n",
    "        tech = 'Visium'\n",
    "    elif 'merfish' in adatas[0]:\n",
    "        biology_meta = 'Cell_class'\n",
    "        tech = 'MERFISH'\n",
    "    elif 'stereo' in adatas[0]:\n",
    "        biology_meta = 'annotation'\n",
    "        tech = 'Stereo-seq'\n",
    "    for i, adata in enumerate(adatas):\n",
    "        print(adata)\n",
    "        adata1 = sc.read_h5ad(adata)\n",
    "        edge_index = knn_graph(x=torch.tensor(adata1.obsm['spatial']), flow='source_to_target',\n",
    "                                k=2, loop=True, num_workers=8)\n",
    "        edge_index = to_undirected(edge_index)\n",
    "\n",
    "        adata1_df = pd.DataFrame({'index':range(adata1.shape[0]),\n",
    "                                'x': adata1.obsm['spatial'][:,0],\n",
    "                                'y': adata1.obsm['spatial'][:,1],\n",
    "                                'meta':adata1.obs[biology_meta]})\n",
    "        source = adata1_df.iloc[edge_index[0],:]\n",
    "        target = adata1_df.iloc[edge_index[1],:]\n",
    "        source['meta2'] = target['meta'].tolist().copy()\n",
    "        print(f'{source.shape[0]} edges')\n",
    "        ratio = (source['meta'] == source['meta2']).value_counts()[0]/source.shape[0]\n",
    "        print(ratio)\n",
    "        tech_dict[f'slice_{i}'] = ratio\n",
    "    result_dict[tech] = tech_dict\n",
    "    print('-----------------')"
   ]
  },
  {
   "cell_type": "code",
   "execution_count": 50,
   "metadata": {},
   "outputs": [
    {
     "data": {
      "text/html": [
       "<div>\n",
       "<style scoped>\n",
       "    .dataframe tbody tr th:only-of-type {\n",
       "        vertical-align: middle;\n",
       "    }\n",
       "\n",
       "    .dataframe tbody tr th {\n",
       "        vertical-align: top;\n",
       "    }\n",
       "\n",
       "    .dataframe thead th {\n",
       "        text-align: right;\n",
       "    }\n",
       "</style>\n",
       "<table border=\"1\" class=\"dataframe\">\n",
       "  <thead>\n",
       "    <tr style=\"text-align: right;\">\n",
       "      <th></th>\n",
       "      <th>index</th>\n",
       "      <th>variable</th>\n",
       "      <th>value</th>\n",
       "    </tr>\n",
       "  </thead>\n",
       "  <tbody>\n",
       "    <tr>\n",
       "      <th>0</th>\n",
       "      <td>slice_0</td>\n",
       "      <td>Visium</td>\n",
       "      <td>0.893442</td>\n",
       "    </tr>\n",
       "    <tr>\n",
       "      <th>1</th>\n",
       "      <td>slice_1</td>\n",
       "      <td>Visium</td>\n",
       "      <td>0.865679</td>\n",
       "    </tr>\n",
       "    <tr>\n",
       "      <th>2</th>\n",
       "      <td>slice_0</td>\n",
       "      <td>MERFISH</td>\n",
       "      <td>0.609224</td>\n",
       "    </tr>\n",
       "    <tr>\n",
       "      <th>3</th>\n",
       "      <td>slice_1</td>\n",
       "      <td>MERFISH</td>\n",
       "      <td>0.631140</td>\n",
       "    </tr>\n",
       "    <tr>\n",
       "      <th>4</th>\n",
       "      <td>slice_0</td>\n",
       "      <td>Stereo-seq</td>\n",
       "      <td>0.942688</td>\n",
       "    </tr>\n",
       "    <tr>\n",
       "      <th>5</th>\n",
       "      <td>slice_1</td>\n",
       "      <td>Stereo-seq</td>\n",
       "      <td>0.935531</td>\n",
       "    </tr>\n",
       "  </tbody>\n",
       "</table>\n",
       "</div>"
      ],
      "text/plain": [
       "     index    variable     value\n",
       "0  slice_0      Visium  0.893442\n",
       "1  slice_1      Visium  0.865679\n",
       "2  slice_0     MERFISH  0.609224\n",
       "3  slice_1     MERFISH  0.631140\n",
       "4  slice_0  Stereo-seq  0.942688\n",
       "5  slice_1  Stereo-seq  0.935531"
      ]
     },
     "execution_count": 50,
     "metadata": {},
     "output_type": "execute_result"
    }
   ],
   "source": [
    "result = pd.DataFrame(result_dict)\n",
    "result = pd.melt(result.reset_index(), id_vars='index')\n",
    "result"
   ]
  },
  {
   "cell_type": "code",
   "execution_count": 79,
   "metadata": {},
   "outputs": [
    {
     "data": {
      "image/png": "[encoded data removed]",
      "text/plain": [
       "<Figure size 640x480 with 1 Axes>"
      ]
     },
     "metadata": {},
     "output_type": "display_data"
    }
   ],
   "source": [
    "# seaborn grouped barplot\n",
    "ax = sns.barplot(data=result, x='variable', y='value', hue='index', palette='Set2')\n",
    "# set x label\n",
    "ax.set_xlabel('Technology')\n",
    "ax.set_ylabel('Ratio of neighbor cell types')\n",
    "ax.legend(bbox_to_anchor = (1.25, 0.5))\n",
    "for i in ax.containers:\n",
    "    ax.bar_label(i, fmt='%.4f')"
   ]
  }
 ],
 "metadata": {
  "kernelspec": {
   "display_name": "Python 3",
   "language": "python",
   "name": "python3"
  },
  "language_info": {
   "codemirror_mode": {
    "name": "ipython",
    "version": 3
   },
   "file_extension": ".py",
   "mimetype": "text/x-python",
   "name": "python",
   "nbconvert_exporter": "python",
   "pygments_lexer": "ipython3",
   "version": "3.8.13"
  },
  "orig_nbformat": 4,
  "vscode": {
   "interpreter": {
    "hash": "88786030ea59a7c96004ff67a345d53abff4d58eacfbb401c324cb520462373b"
   }
  }
 },
 "nbformat": 4,
 "nbformat_minor": 2
}

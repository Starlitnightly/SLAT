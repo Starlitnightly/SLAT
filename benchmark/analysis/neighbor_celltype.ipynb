{
 "cells": [
  {
   "cell_type": "code",
   "execution_count": 1,
   "metadata": {},
   "outputs": [],
   "source": [
    "import scanpy as sc\n",
    "import pandas as pd\n",
    "import numpy as np\n",
    "import faiss\n",
    "\n",
    "import seaborn as sns"
   ]
  },
  {
   "cell_type": "code",
   "execution_count": 2,
   "metadata": {},
   "outputs": [],
   "source": [
    "# sc.set_figure_params(dpi=150, fontsize=9)"
   ]
  },
  {
   "cell_type": "code",
   "execution_count": 3,
   "metadata": {},
   "outputs": [],
   "source": [
    "visium_human_DLPFC =  [\"../../data/visium/DLPFC/region_1/151674_labeled.h5ad\",\"../../data/visium/DLPFC/region_1/151675_labeled.h5ad\"]\n",
    "merfish_mouse_hypothalamic =  [\"../../data/merfish/hypothalamic/merfish_layer1_labeled.h5ad\",\"../../data/merfish/hypothalamic/merfish_layer2_labeled.h5ad\"]\n",
    "stereo_mouse_embryo =  [\"../../data/stereo_seq/counts/E15.5/count_E15.5_E1S1_filter_labeled.h5ad\",\"../../data/stereo_seq/counts/E15.5/count_E15.5_E1S2_filter_labeled.h5ad\"]"
   ]
  },
  {
   "cell_type": "markdown",
   "metadata": {},
   "source": [
    "# Inside the dataset"
   ]
  },
  {
   "cell_type": "code",
   "execution_count": 4,
   "metadata": {},
   "outputs": [
    {
     "name": "stdout",
     "output_type": "stream",
     "text": [
      "--------Visium---------\n",
      "contain 3635 cells\n",
      "{True: 2899, False: 736}\n",
      "0.7975240715268226\n",
      "\n",
      "\n",
      "contain 3566 cells\n",
      "{True: 2680, False: 886}\n",
      "0.7515423443634324\n",
      "\n",
      "\n",
      "--------MERFISH---------\n",
      "contain 6412 cells\n",
      "{False: 4250, True: 2162}\n",
      "0.33718028696194635\n",
      "\n",
      "\n",
      "contain 6507 cells\n",
      "{False: 4087, True: 2420}\n",
      "0.37190717688643\n",
      "\n",
      "\n",
      "--------Stereo-seq---------\n",
      "contain 101837 cells\n",
      "{True: 91343, False: 10494}\n",
      "0.8969529738700079\n",
      "\n",
      "\n",
      "contain 96221 cells\n",
      "{True: 85305, False: 10916}\n",
      "0.8865528315024787\n",
      "\n",
      "\n"
     ]
    }
   ],
   "source": [
    "result_dict = {}\n",
    "for adatas in [visium_human_DLPFC, merfish_mouse_hypothalamic, stereo_mouse_embryo]:\n",
    "    tech_dict = {}\n",
    "    if 'visium' and 'DLPFC' in adatas[0]:\n",
    "        biology_meta = 'cell_type'\n",
    "        tech = 'Visium'\n",
    "    elif 'merfish' in adatas[0]:\n",
    "        biology_meta = 'Cell_class'\n",
    "        tech = 'MERFISH'\n",
    "    elif 'stereo' in adatas[0]:\n",
    "        biology_meta = 'annotation'\n",
    "        tech = 'Stereo-seq'\n",
    "    print(f'--------{tech}---------')\n",
    "    for i, adata in enumerate(adatas):\n",
    "        adata1 = sc.read_h5ad(adata)\n",
    "        query_coord = adata1.obsm['spatial'].astype('float32').copy()\n",
    "        ref_coord = adata1.obsm['spatial'].astype('float32').copy()\n",
    "        \n",
    "        # nearest neighbor defining\n",
    "        index = faiss.IndexFlatL2(2) \n",
    "        index.add(ref_coord)   \n",
    "        distance, orders = index.search(query_coord, 3)\n",
    "        order = orders[:,1].flatten() # exclude it self\n",
    "\n",
    "        map_df = pd.DataFrame({'index':range(adata1.shape[0]),\n",
    "                               'meta':adata1.obs[biology_meta].astype(str),\n",
    "                               'map':order,\n",
    "                               'map_meta':adata1.obs[biology_meta][order].values.astype(str)\n",
    "                                })\n",
    "\n",
    "        print(f'contain {map_df.shape[0]} cells')\n",
    "        res = dict((map_df['meta'] == map_df['map_meta']).value_counts())\n",
    "        ratio = res[True]/map_df.shape[0]\n",
    "        print(res)\n",
    "        print(ratio)\n",
    "        tech_dict[f'slice_{i}'] = ratio\n",
    "        print('\\n')\n",
    "    result_dict[tech] = tech_dict"
   ]
  },
  {
   "cell_type": "code",
   "execution_count": 5,
   "metadata": {},
   "outputs": [
    {
     "data": {
      "text/html": [
       "<div>\n",
       "<style scoped>\n",
       "    .dataframe tbody tr th:only-of-type {\n",
       "        vertical-align: middle;\n",
       "    }\n",
       "\n",
       "    .dataframe tbody tr th {\n",
       "        vertical-align: top;\n",
       "    }\n",
       "\n",
       "    .dataframe thead th {\n",
       "        text-align: right;\n",
       "    }\n",
       "</style>\n",
       "<table border=\"1\" class=\"dataframe\">\n",
       "  <thead>\n",
       "    <tr style=\"text-align: right;\">\n",
       "      <th></th>\n",
       "      <th>index</th>\n",
       "      <th>variable</th>\n",
       "      <th>value</th>\n",
       "    </tr>\n",
       "  </thead>\n",
       "  <tbody>\n",
       "    <tr>\n",
       "      <th>0</th>\n",
       "      <td>slice_0</td>\n",
       "      <td>Visium</td>\n",
       "      <td>0.797524</td>\n",
       "    </tr>\n",
       "    <tr>\n",
       "      <th>1</th>\n",
       "      <td>slice_1</td>\n",
       "      <td>Visium</td>\n",
       "      <td>0.751542</td>\n",
       "    </tr>\n",
       "    <tr>\n",
       "      <th>2</th>\n",
       "      <td>slice_0</td>\n",
       "      <td>MERFISH</td>\n",
       "      <td>0.337180</td>\n",
       "    </tr>\n",
       "    <tr>\n",
       "      <th>3</th>\n",
       "      <td>slice_1</td>\n",
       "      <td>MERFISH</td>\n",
       "      <td>0.371907</td>\n",
       "    </tr>\n",
       "    <tr>\n",
       "      <th>4</th>\n",
       "      <td>slice_0</td>\n",
       "      <td>Stereo-seq</td>\n",
       "      <td>0.896953</td>\n",
       "    </tr>\n",
       "    <tr>\n",
       "      <th>5</th>\n",
       "      <td>slice_1</td>\n",
       "      <td>Stereo-seq</td>\n",
       "      <td>0.886553</td>\n",
       "    </tr>\n",
       "  </tbody>\n",
       "</table>\n",
       "</div>"
      ],
      "text/plain": [
       "     index    variable     value\n",
       "0  slice_0      Visium  0.797524\n",
       "1  slice_1      Visium  0.751542\n",
       "2  slice_0     MERFISH  0.337180\n",
       "3  slice_1     MERFISH  0.371907\n",
       "4  slice_0  Stereo-seq  0.896953\n",
       "5  slice_1  Stereo-seq  0.886553"
      ]
     },
     "execution_count": 5,
     "metadata": {},
     "output_type": "execute_result"
    }
   ],
   "source": [
    "result = pd.DataFrame(result_dict)\n",
    "result = pd.melt(result.reset_index(), id_vars='index')\n",
    "result"
   ]
  },
  {
   "cell_type": "code",
   "execution_count": 6,
   "metadata": {},
   "outputs": [
    {
     "data": {
      "image/png": "[encoded data removed]",
      "text/plain": [
       "<Figure size 640x480 with 1 Axes>"
      ]
     },
     "metadata": {},
     "output_type": "display_data"
    }
   ],
   "source": [
    "# seaborn grouped barplot\n",
    "ax = sns.barplot(data=result, x='variable', y='value', hue='index', palette='Set1')\n",
    "# set x label\n",
    "ax.set_xlabel('Technology')\n",
    "ax.set_ylabel(\"Nearest cells' cell types inside the dataset\")\n",
    "ax.legend(bbox_to_anchor = (1.25, 0.5))\n",
    "for i in ax.containers:\n",
    "    ax.bar_label(i, fmt='%.4f')"
   ]
  },
  {
   "cell_type": "markdown",
   "metadata": {},
   "source": [
    "# Cross the dataset"
   ]
  },
  {
   "cell_type": "code",
   "execution_count": 7,
   "metadata": {
    "tags": []
   },
   "outputs": [
    {
     "name": "stdout",
     "output_type": "stream",
     "text": [
      "--------Visium---------\n",
      "contain 3635 cells\n",
      "{True: 2578, False: 1057}\n",
      "0.7092159559834939\n",
      "--------MERFISH---------\n",
      "contain 6412 cells\n",
      "{False: 4631, True: 1781}\n",
      "0.27776044915782905\n",
      "--------Stereo-seq---------\n",
      "contain 101837 cells\n",
      "{True: 53600, False: 48237}\n",
      "0.5263312941268891\n"
     ]
    }
   ],
   "source": [
    "result_dict = {}\n",
    "for adatas in [visium_human_DLPFC, merfish_mouse_hypothalamic, stereo_mouse_embryo]:\n",
    "    tech_dict = {}\n",
    "    if 'visium' and 'DLPFC' in adatas[0]:\n",
    "        biology_meta = 'cell_type'\n",
    "        tech = 'Visium'\n",
    "    elif 'merfish' in adatas[0]:\n",
    "        biology_meta = 'Cell_class'\n",
    "        tech = 'MERFISH'\n",
    "    elif 'stereo' in adatas[0]:\n",
    "        biology_meta = 'annotation'\n",
    "        tech = 'Stereo-seq'\n",
    "    adata1 = sc.read_h5ad(adatas[0])\n",
    "    adata2 = sc.read_h5ad(adatas[1])\n",
    "    # scale coordinate\n",
    "    query_coord = adata1.obsm['spatial'].astype('float32').copy()\n",
    "    ref_coord = adata2.obsm['spatial'].astype('float32').copy()\n",
    "    query_coord = (query_coord-np.min(query_coord))/(np.max(query_coord)-np.min(query_coord))\n",
    "    ref_coord = (ref_coord-np.min(ref_coord))/(np.max(ref_coord)-np.min(ref_coord))\n",
    "    \n",
    "    # nearest neighbor defining\n",
    "    index = faiss.IndexFlatL2(2) \n",
    "    index.add(ref_coord)   \n",
    "    distance, orders = index.search(query_coord, 5)\n",
    "    order = orders[:,0].flatten()\n",
    "\n",
    "    map_df = pd.DataFrame({'index':range(adata1.shape[0]),\n",
    "                           'meta':adata1.obs[biology_meta].astype(str),\n",
    "                           'map':order,\n",
    "                           'map_meta':adata2.obs[biology_meta][order].values.astype(str)\n",
    "                            })\n",
    "    print(f'--------{tech}---------')\n",
    "    print(f'contain {map_df.shape[0]} cells')\n",
    "    res = dict((map_df['meta'] == map_df['map_meta']).value_counts())\n",
    "    ratio = res[True]/map_df.shape[0]\n",
    "    print(res)\n",
    "    print(ratio)\n",
    "    result_dict[tech] = ratio"
   ]
  },
  {
   "cell_type": "code",
   "execution_count": 8,
   "metadata": {},
   "outputs": [
    {
     "data": {
      "text/html": [
       "<div>\n",
       "<style scoped>\n",
       "    .dataframe tbody tr th:only-of-type {\n",
       "        vertical-align: middle;\n",
       "    }\n",
       "\n",
       "    .dataframe tbody tr th {\n",
       "        vertical-align: top;\n",
       "    }\n",
       "\n",
       "    .dataframe thead th {\n",
       "        text-align: right;\n",
       "    }\n",
       "</style>\n",
       "<table border=\"1\" class=\"dataframe\">\n",
       "  <thead>\n",
       "    <tr style=\"text-align: right;\">\n",
       "      <th></th>\n",
       "      <th>value</th>\n",
       "      <th>Technology</th>\n",
       "    </tr>\n",
       "  </thead>\n",
       "  <tbody>\n",
       "    <tr>\n",
       "      <th>Visium</th>\n",
       "      <td>0.709216</td>\n",
       "      <td>Visium</td>\n",
       "    </tr>\n",
       "    <tr>\n",
       "      <th>MERFISH</th>\n",
       "      <td>0.277760</td>\n",
       "      <td>MERFISH</td>\n",
       "    </tr>\n",
       "    <tr>\n",
       "      <th>Stereo-seq</th>\n",
       "      <td>0.526331</td>\n",
       "      <td>Stereo-seq</td>\n",
       "    </tr>\n",
       "  </tbody>\n",
       "</table>\n",
       "</div>"
      ],
      "text/plain": [
       "               value  Technology\n",
       "Visium      0.709216      Visium\n",
       "MERFISH     0.277760     MERFISH\n",
       "Stereo-seq  0.526331  Stereo-seq"
      ]
     },
     "execution_count": 8,
     "metadata": {},
     "output_type": "execute_result"
    }
   ],
   "source": [
    "result = pd.DataFrame(result_dict, index=['value']).T\n",
    "result['Technology'] = result.index\n",
    "result"
   ]
  },
  {
   "cell_type": "code",
   "execution_count": 9,
   "metadata": {},
   "outputs": [
    {
     "data": {
      "image/png": "[encoded data removed]",
      "text/plain": [
       "<Figure size 640x480 with 1 Axes>"
      ]
     },
     "metadata": {},
     "output_type": "display_data"
    }
   ],
   "source": [
    "# seaborn grouped barplot\n",
    "ax = sns.barplot(data=result,x='Technology', y='value', palette='Set1')\n",
    "# set x label\n",
    "ax.set_xlabel('Technology')\n",
    "ax.set_ylabel(\"Nearest cells' cell types cross datasets\")\n",
    "for i in ax.containers:\n",
    "    ax.bar_label(i, fmt='%.4f')"
   ]
  }
 ],
 "metadata": {
  "kernelspec": {
   "display_name": "Python 3",
   "language": "python",
   "name": "python3"
  },
  "language_info": {
   "codemirror_mode": {
    "name": "ipython",
    "version": 3
   },
   "file_extension": ".py",
   "mimetype": "text/x-python",
   "name": "python",
   "nbconvert_exporter": "python",
   "pygments_lexer": "ipython3",
   "version": "3.8.13"
  },
  "vscode": {
   "interpreter": {
    "hash": "88786030ea59a7c96004ff67a345d53abff4d58eacfbb401c324cb520462373b"
   }
  }
 },
 "nbformat": 4,
 "nbformat_minor": 4
}

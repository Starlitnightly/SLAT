{
 "cells": [
  {
   "cell_type": "code",
   "execution_count": null,
   "metadata": {},
   "outputs": [],
   "source": [
    "import yaml\n",
    "import os\n",
    "import time\n",
    "from pathlib import Path\n",
    "\n",
    "import scanpy as sc\n",
    "import torch\n",
    "import numpy as np\n",
    "import pandas as pd\n",
    "\n",
    "from scSLAT.model import load_anndatas, run_SLAT, Cal_Spatial_Net, spatial_match\n",
    "from scSLAT.metrics import global_score\n",
    "from scSLAT.viz import match_3D_multi"
   ]
  },
  {
   "cell_type": "code",
   "execution_count": null,
   "metadata": {},
   "outputs": [],
   "source": [
    "sc.set_figure_params(dpi_save=200, dpi=150)"
   ]
  },
  {
   "cell_type": "code",
   "execution_count": null,
   "metadata": {
    "tags": [
     "parameters"
    ]
   },
   "outputs": [],
   "source": [
    "# parameter cells\n",
    "adata1_file = ''\n",
    "adata2_file = ''\n",
    "metric_file = ''\n",
    "emb0_file = ''\n",
    "emb1_file = ''\n",
    "matching_file = ''"
   ]
  },
  {
   "cell_type": "code",
   "execution_count": null,
   "metadata": {},
   "outputs": [],
   "source": [
    "adata1 = sc.read_h5ad(adata1_file)\n",
    "adata2 = sc.read_h5ad(adata2_file)"
   ]
  },
  {
   "cell_type": "markdown",
   "metadata": {},
   "source": [
    "# Parameter for dataset"
   ]
  },
  {
   "cell_type": "code",
   "execution_count": null,
   "metadata": {},
   "outputs": [],
   "source": [
    "if 'visium' and 'DLPFC' in adata1_file:\n",
    "    biology_meta = 'cell_type'\n",
    "    topology_meta = 'layer_guess'\n",
    "    LGCN_layer = 2\n",
    "elif 'merfish' and 'hypothalamic' in adata1_file:\n",
    "    biology_meta = 'Cell_class'\n",
    "    topology_meta = 'region'\n",
    "    LGCN_layer = 2\n",
    "elif 'stereo' and 'embryo' in adata1_file:\n",
    "    biology_meta = 'annotation'\n",
    "    topology_meta = 'region'\n",
    "    LGCN_layer = 1\n",
    "elif 'brain' in adata1_file:\n",
    "    biology_meta = 'layer_guess'\n",
    "    topology_meta = 'layer_guess'\n",
    "    LGCN_layer = 2"
   ]
  },
  {
   "cell_type": "markdown",
   "metadata": {},
   "source": [
    "# run SLAT"
   ]
  },
  {
   "cell_type": "code",
   "execution_count": null,
   "metadata": {},
   "outputs": [],
   "source": [
    "start = time.time()\n",
    "Cal_Spatial_Net(adata1, k_cutoff=20, model='KNN')\n",
    "Cal_Spatial_Net(adata2, k_cutoff=20, model='KNN')\n",
    "edges, features = load_anndatas([adata1, adata2], feature='PCA')\n",
    "embd0, embd1, time1 = run_SLAT(features, edges, 6, LGCN_layer=LGCN_layer)\n",
    "print('Runtime: ' + str(time.time() - start))\n",
    "run_time = str(time.time() - start)"
   ]
  },
  {
   "cell_type": "code",
   "execution_count": null,
   "metadata": {},
   "outputs": [],
   "source": [
    "adata1.obsm['X_slat'] = embd0.cpu().detach().numpy()\n",
    "adata2.obsm['X_slat'] = embd1.cpu().detach().numpy()"
   ]
  },
  {
   "cell_type": "markdown",
   "metadata": {},
   "source": [
    "# Metric"
   ]
  },
  {
   "cell_type": "code",
   "execution_count": null,
   "metadata": {},
   "outputs": [],
   "source": [
    "embd0 = adata1.obsm['X_slat']\n",
    "embd1 = adata2.obsm['X_slat']\n",
    "best, index, distance = spatial_match([embd0, embd1], adatas=[adata1,adata2])\n",
    "matching = np.array([range(index.shape[0]), best])"
   ]
  },
  {
   "cell_type": "code",
   "execution_count": null,
   "metadata": {},
   "outputs": [],
   "source": [
    "overall_score = global_score([adata1,adata2], matching.T, biology_meta, topology_meta)\n",
    "celltype_score = global_score([adata1,adata2], matching.T, biology_meta=biology_meta)\n",
    "region_score = global_score([adata1,adata2], matching.T, topology_meta=topology_meta)"
   ]
  },
  {
   "cell_type": "markdown",
   "metadata": {},
   "source": [
    "# Save"
   ]
  },
  {
   "cell_type": "code",
   "execution_count": null,
   "metadata": {},
   "outputs": [],
   "source": [
    "metric_dic = {}\n",
    "metric_dic['global_score'] = overall_score\n",
    "metric_dic['celltype_score'] = celltype_score\n",
    "metric_dic['region_score'] = region_score\n",
    "metric_dic['run_time'] = run_time\n",
    "\n",
    "with open(metric_file, \"w\") as f:\n",
    "    yaml.dump(metric_dic, f)\n",
    "\n",
    "np.savetxt(emb0_file, adata1.obsm['X_slat'], delimiter=',')\n",
    "np.savetxt(emb1_file, adata2.obsm['X_slat'], delimiter=',')\n",
    "np.savetxt(matching_file, matching, fmt='%i')"
   ]
  },
  {
   "cell_type": "markdown",
   "metadata": {},
   "source": [
    "# Plot"
   ]
  },
  {
   "cell_type": "code",
   "execution_count": null,
   "metadata": {},
   "outputs": [],
   "source": [
    "out_dir = Path(os.path.dirname(metric_file))"
   ]
  },
  {
   "cell_type": "code",
   "execution_count": null,
   "metadata": {},
   "outputs": [],
   "source": [
    "# adata_all = adata1.concatenate(adata2)\n",
    "# sc.pp.neighbors(adata_all, metric=\"cosine\", use_rep='X_slat')\n",
    "# sc.tl.umap(adata_all)\n",
    "# sc.pl.umap(adata_all, color=biology_meta, save=out_dir / 'biology.pdf')\n",
    "# sc.pl.umap(adata_all, color=topology_meta, save=out_dir / 'topology.pdf')\n",
    "# sc.pl.umap(adata_all, color=\"batch\", save=out_dir / 'batch.pdf')"
   ]
  },
  {
   "cell_type": "code",
   "execution_count": null,
   "metadata": {},
   "outputs": [],
   "source": [
    "adata1_df = pd.DataFrame({'index':range(embd0.shape[0]),\n",
    "                          'x': adata1.obsm['spatial'][:,0],\n",
    "                          'y': adata1.obsm['spatial'][:,1],\n",
    "                          'celltype':adata1.obs[biology_meta],\n",
    "                          'region':adata1.obs[topology_meta]})\n",
    "adata2_df = pd.DataFrame({'index':range(embd1.shape[0]),\n",
    "                          'x': adata2.obsm['spatial'][:,0],\n",
    "                          'y': adata2.obsm['spatial'][:,1],\n",
    "                          'celltype':adata2.obs[biology_meta],\n",
    "                          'region':adata2.obs[topology_meta]})\n",
    "matching = np.array([range(index.shape[0]), best])"
   ]
  },
  {
   "cell_type": "code",
   "execution_count": null,
   "metadata": {},
   "outputs": [],
   "source": [
    "multi_align = match_3D_multi(adata1_df, adata2_df, matching,meta='celltype',\n",
    "                             scale_coordinate=True, subsample_size=300, exchange_xy=False)\n",
    "\n",
    "multi_align.draw_3D(size=[7, 8], line_width=1, point_size=[0.8, 0.8], hide_axis=True, show_error=False, save=out_dir / 'match_by_celltype.pdf')"
   ]
  },
  {
   "cell_type": "code",
   "execution_count": null,
   "metadata": {},
   "outputs": [],
   "source": [
    "multi_align = match_3D_multi(adata1_df, adata2_df,matching,meta='region',\n",
    "                             scale_coordinate=True,subsample_size=300,exchange_xy=False)\n",
    "\n",
    "multi_align.draw_3D(size=[7, 8], line_width=1, point_size=[0.8, 0.8], hide_axis=True, show_error=False, save=out_dir / 'match_by_region.pdf')"
   ]
  }
 ],
 "metadata": {
  "kernelspec": {
   "display_name": "Python 3",
   "language": "python",
   "name": "python3"
  },
  "language_info": {
   "codemirror_mode": {
    "name": "ipython",
    "version": 3
   },
   "file_extension": ".py",
   "mimetype": "text/x-python",
   "name": "python",
   "nbconvert_exporter": "python",
   "pygments_lexer": "ipython3",
   "version": "3.8.13 | packaged by conda-forge | (default, Mar 25 2022, 06:04:18) \n[GCC 10.3.0]"
  },
  "vscode": {
   "interpreter": {
    "hash": "88786030ea59a7c96004ff67a345d53abff4d58eacfbb401c324cb520462373b"
   }
  }
 },
 "nbformat": 4,
 "nbformat_minor": 4
}

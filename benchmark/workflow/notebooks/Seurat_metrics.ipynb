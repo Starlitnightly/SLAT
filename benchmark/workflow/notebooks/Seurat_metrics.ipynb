{
 "cells": [
  {
   "cell_type": "code",
   "execution_count": null,
   "metadata": {},
   "outputs": [],
   "source": [
    "import os\n",
    "import yaml\n",
    "from pathlib import Path\n",
    "\n",
    "import scanpy as sc\n",
    "import torch\n",
    "import numpy as np\n",
    "import pandas as pd\n",
    "\n",
    "from scSLAT.model import spatial_match\n",
    "from scSLAT.metrics import global_score\n",
    "from scSLAT.viz import match_3D_multi"
   ]
  },
  {
   "cell_type": "code",
   "execution_count": null,
   "metadata": {
    "tags": [
     "parameters"
    ]
   },
   "outputs": [],
   "source": [
    "# parameter cells\n",
    "adata1_file = ''\n",
    "adata2_file = ''\n",
    "emb0_file = ''\n",
    "emb1_file = ''\n",
    "metric_file = ''"
   ]
  },
  {
   "cell_type": "code",
   "execution_count": null,
   "metadata": {},
   "outputs": [],
   "source": [
    "adata1 = sc.read_h5ad(adata1_file)\n",
    "adata2 = sc.read_h5ad(adata2_file)"
   ]
  },
  {
   "cell_type": "code",
   "execution_count": null,
   "metadata": {},
   "outputs": [],
   "source": [
    "embd0 = pd.read_csv(emb0_file)\n",
    "embd1 = pd.read_csv(emb1_file)\n",
    "embd0 = torch.from_numpy(embd0.to_numpy())\n",
    "embd1 = torch.from_numpy(embd1.to_numpy())"
   ]
  },
  {
   "cell_type": "code",
   "execution_count": null,
   "metadata": {},
   "outputs": [],
   "source": [
    "best, index, distance = spatial_match([embd0, embd1],smooth=False)\n",
    "matching = np.array([range(index.shape[0]), best])"
   ]
  },
  {
   "cell_type": "code",
   "execution_count": null,
   "metadata": {},
   "outputs": [],
   "source": [
    "if 'visium' and 'DLPFC' in adata1_file:\n",
    "    biology_meta = 'cell_type'\n",
    "    topology_meta = 'layer_guess'\n",
    "elif 'merfish' and 'hypothalamic' in adata1_file:\n",
    "    biology_meta = 'Cell_class'\n",
    "    topology_meta = 'region'\n",
    "elif 'stereo' and 'embryo' in adata1_file:\n",
    "    biology_meta = 'annotation'\n",
    "    topology_meta = 'region'"
   ]
  },
  {
   "cell_type": "code",
   "execution_count": null,
   "metadata": {},
   "outputs": [],
   "source": [
    "overall_score = global_score([adata1,adata2], matching.T, biology_meta, topology_meta)\n",
    "celltype_score = global_score([adata1,adata2], matching.T, biology_meta=biology_meta)\n",
    "region_score = global_score([adata1,adata2], matching.T, topology_meta=topology_meta)"
   ]
  },
  {
   "cell_type": "markdown",
   "metadata": {},
   "source": [
    "# Save"
   ]
  },
  {
   "cell_type": "code",
   "execution_count": null,
   "metadata": {},
   "outputs": [],
   "source": [
    "out_dir = Path(os.path.dirname(metric_file))\n",
    "with open(out_dir / 'run_time.yaml', 'r') as stream:\n",
    "    run_time_dic = yaml.safe_load(stream)"
   ]
  },
  {
   "cell_type": "code",
   "execution_count": null,
   "metadata": {},
   "outputs": [],
   "source": [
    "metric_dic = {}\n",
    "metric_dic['global_score'] = overall_score\n",
    "metric_dic['celltype_score'] = celltype_score\n",
    "metric_dic['region_score'] = region_score\n",
    "metric_dic['run_time'] = run_time_dic['run_time']\n",
    "\n",
    "with open(metric_file, \"w\") as f:\n",
    "    yaml.dump(metric_dic, f)"
   ]
  },
  {
   "cell_type": "markdown",
   "metadata": {},
   "source": [
    "# Plot"
   ]
  },
  {
   "cell_type": "code",
   "execution_count": null,
   "metadata": {},
   "outputs": [],
   "source": [
    "adata1_df = pd.DataFrame({'index':range(embd0.shape[0]),\n",
    "                          'x': adata1.obsm['spatial'][:,0],\n",
    "                          'y': adata1.obsm['spatial'][:,1],\n",
    "                          'celltype':adata1.obs[biology_meta],\n",
    "                          'region':adata1.obs[topology_meta]})\n",
    "adata2_df = pd.DataFrame({'index':range(embd1.shape[0]),\n",
    "                          'x': adata2.obsm['spatial'][:,0],\n",
    "                          'y': adata2.obsm['spatial'][:,1],\n",
    "                          'celltype':adata2.obs[biology_meta],\n",
    "                          'region':adata2.obs[topology_meta]})\n",
    "matching = np.array([range(index.shape[0]), best])"
   ]
  },
  {
   "cell_type": "code",
   "execution_count": null,
   "metadata": {},
   "outputs": [],
   "source": [
    "multi_align = match_3D_multi(adata1_df, adata2_df,matching,meta='celltype',\n",
    "                             scale_coordinate=True,subsample_size=300,exchange_xy=False)\n",
    "\n",
    "multi_align.draw_3D(size= [7, 8], line_width=1, point_size=[0.8,0.8], hide_axis=True, show_error=False, save=out_dir / 'match_by_celltype.pdf')"
   ]
  },
  {
   "cell_type": "code",
   "execution_count": null,
   "metadata": {},
   "outputs": [],
   "source": [
    "multi_align = match_3D_multi(adata1_df, adata2_df,matching,meta='region',\n",
    "                             scale_coordinate=True,subsample_size=300,exchange_xy=False)\n",
    "\n",
    "multi_align.draw_3D(size= [7, 8], line_width=1, point_size=[0.8,0.8], hide_axis=True, show_error=False, save=out_dir / 'match_by_region.pdf')"
   ]
  }
 ],
 "metadata": {
  "kernelspec": {
   "display_name": "Python 3.8.13",
   "language": "python",
   "name": "python3"
  },
  "language_info": {
   "codemirror_mode": {
    "name": "ipython",
    "version": 3
   },
   "file_extension": ".py",
   "mimetype": "text/x-python",
   "name": "python",
   "nbconvert_exporter": "python",
   "pygments_lexer": "ipython3",
   "version": "3.8.13"
  },
  "vscode": {
   "interpreter": {
    "hash": "621de31e2976773a15ee61e49bb83d1434b38154b833d4f115dd1fe48a7a7636"
   }
  }
 },
 "nbformat": 4,
 "nbformat_minor": 4
}

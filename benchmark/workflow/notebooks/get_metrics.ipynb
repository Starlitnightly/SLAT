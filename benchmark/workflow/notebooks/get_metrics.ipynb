{
 "cells": [
  {
   "cell_type": "code",
   "execution_count": null,
   "metadata": {},
   "outputs": [],
   "source": [
    "import yaml\n",
    "import os\n",
    "import pathlib\n",
    "from pathlib import Path\n",
    "\n",
    "import scanpy as sc\n",
    "import torch\n",
    "import numpy as np\n",
    "import pandas as pd\n",
    "\n",
    "from scSLAT.model import scanpy_workflow,spatial_match\n",
    "from scSLAT.metrics import global_score\n",
    "from scSLAT.viz import match_3D_multi"
   ]
  },
  {
   "cell_type": "code",
   "execution_count": null,
   "metadata": {},
   "outputs": [],
   "source": [
    "sc.set_figure_params(dpi_save=200,dpi=150)"
   ]
  },
  {
   "cell_type": "code",
   "execution_count": null,
   "metadata": {
    "tags": [
     "parameters"
    ]
   },
   "outputs": [],
   "source": [
    "# parameter cells\n",
    "adata1_file = ''\n",
    "adata2_file = ''\n",
    "method = ''\n",
    "metric_file = ''\n",
    "emb0_file = ''\n",
    "emb1_file = ''"
   ]
  },
  {
   "cell_type": "code",
   "execution_count": null,
   "metadata": {},
   "outputs": [],
   "source": [
    "adata1 = sc.read_h5ad(adata1_file)\n",
    "adata2 = sc.read_h5ad(adata2_file)\n",
    "solt = 'X_' + method.lower()"
   ]
  },
  {
   "cell_type": "code",
   "execution_count": null,
   "metadata": {},
   "outputs": [],
   "source": [
    "embd0 = adata1.obsm[solt]\n",
    "embd1 = adata2.obsm[solt]\n",
    "best, index, distance = spatial_match([embd0, embd1],smooth=False)\n",
    "matching = np.array([range(index.shape[0]), best])"
   ]
  },
  {
   "cell_type": "code",
   "execution_count": null,
   "metadata": {},
   "outputs": [],
   "source": [
    "if 'visium' and 'DLPFC' in adata1_file:\n",
    "    biology_meta = 'cell_type'\n",
    "    topology_meta = 'layer_guess'\n",
    "elif 'merfish' and 'hypothalamic' in adata1_file:\n",
    "    biology_meta = 'Cell_class'\n",
    "    topology_meta = 'region'\n",
    "elif 'stereo' and 'embryo' in adata1_file:\n",
    "    biology_meta = 'annotation'\n",
    "    topology_meta = 'region'"
   ]
  },
  {
   "cell_type": "code",
   "execution_count": null,
   "metadata": {},
   "outputs": [],
   "source": [
    "overall_score = global_score([adata1,adata2], matching.T, biology_meta, topology_meta)\n",
    "celltype_score = global_score([adata1,adata2], matching.T, biology_meta=biology_meta)\n",
    "region_score = global_score([adata1,adata2], matching.T, topology_meta=topology_meta)"
   ]
  },
  {
   "cell_type": "code",
   "execution_count": null,
   "metadata": {},
   "outputs": [],
   "source": [
    "time_key =  method.lower() + '_time'\n",
    "run_time = adata1.uns[time_key]"
   ]
  },
  {
   "cell_type": "markdown",
   "metadata": {},
   "source": [
    "# Save"
   ]
  },
  {
   "cell_type": "code",
   "execution_count": null,
   "metadata": {},
   "outputs": [],
   "source": [
    "metric_dic = {}\n",
    "metric_dic['global_score'] = overall_score\n",
    "metric_dic['celltype_score'] = celltype_score\n",
    "metric_dic['region_score'] = region_score\n",
    "metric_dic['run_time'] = run_time\n",
    "\n",
    "with open(metric_file, \"w\") as f:\n",
    "    yaml.dump(metric_dic, f)"
   ]
  },
  {
   "cell_type": "code",
   "execution_count": null,
   "metadata": {},
   "outputs": [],
   "source": [
    "np.savetxt(emb0_file, adata1.obsm[solt], delimiter=',')\n",
    "np.savetxt(emb1_file, adata2.obsm[solt], delimiter=',')"
   ]
  },
  {
   "cell_type": "markdown",
   "metadata": {},
   "source": [
    "# Plot"
   ]
  },
  {
   "cell_type": "code",
   "execution_count": null,
   "metadata": {},
   "outputs": [],
   "source": [
    "adata_all = adata1.concatenate(adata2)\n",
    "out_dir = Path(os.path.dirname(metric_file))\n",
    "sc.pp.neighbors(adata_all, metric=\"cosine\", use_rep=solt)\n",
    "sc.tl.umap(adata_all)\n",
    "sc.pl.umap(adata_all, color=biology_meta,save=out_dir / 'biology.pdf')\n",
    "sc.pl.umap(adata_all, color=topology_meta,save=out_dir / 'topology.pdf')\n",
    "sc.pl.umap(adata_all, color=\"batch\",save=out_dir / 'batch.pdf')"
   ]
  },
  {
   "cell_type": "code",
   "execution_count": null,
   "metadata": {},
   "outputs": [],
   "source": [
    "adata1_df = pd.DataFrame({'index':range(embd0.shape[0]),\n",
    "                          'x': adata1.obsm['spatial'][:,0],\n",
    "                          'y': adata1.obsm['spatial'][:,1],\n",
    "                          'celltype':adata1.obs[biology_meta],\n",
    "                          'region':adata1.obs[topology_meta]})\n",
    "adata2_df = pd.DataFrame({'index':range(embd1.shape[0]),\n",
    "                          'x': adata2.obsm['spatial'][:,0],\n",
    "                          'y': adata2.obsm['spatial'][:,1],\n",
    "                          'celltype':adata2.obs[biology_meta],\n",
    "                          'region':adata2.obs[topology_meta]})\n",
    "matching = np.array([range(index.shape[0]), best])"
   ]
  },
  {
   "cell_type": "code",
   "execution_count": null,
   "metadata": {},
   "outputs": [],
   "source": [
    "multi_align = match_3D_multi(adata1_df, adata2_df,matching,meta='celltype',\n",
    "                             scale_coordinate=True,subsample_size=300,exchange_xy=False)\n",
    "\n",
    "multi_align.draw_3D(size= [7, 8], line_width =1, point_size=[0.8,0.8], hide_axis=True, show_error=False, save=out_dir / 'match_by_celltype.pdf')"
   ]
  },
  {
   "cell_type": "code",
   "execution_count": null,
   "metadata": {},
   "outputs": [],
   "source": [
    "multi_align = match_3D_multi(adata1_df, adata2_df,matching,meta='region',\n",
    "                             scale_coordinate=True,subsample_size=300,exchange_xy=False)\n",
    "\n",
    "multi_align.draw_3D(size= [7, 8], line_width =1, point_size=[0.8,0.8], hide_axis=True, show_error=False, save=out_dir / 'match_by_region.pdf')"
   ]
  }
 ],
 "metadata": {
  "kernelspec": {
   "display_name": "Python 3.8.13 (conda)",
   "language": "python",
   "name": "python3"
  },
  "language_info": {
   "codemirror_mode": {
    "name": "ipython",
    "version": 3
   },
   "file_extension": ".py",
   "mimetype": "text/x-python",
   "name": "python",
   "nbconvert_exporter": "python",
   "pygments_lexer": "ipython3",
   "version": "3.8.13"
  },
  "vscode": {
   "interpreter": {
    "hash": "621de31e2976773a15ee61e49bb83d1434b38154b833d4f115dd1fe48a7a7636"
   }
  }
 },
 "nbformat": 4,
 "nbformat_minor": 4
}
